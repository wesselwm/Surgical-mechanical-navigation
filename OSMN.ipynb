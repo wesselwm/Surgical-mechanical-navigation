{
 "cells": [
  {
   "cell_type": "code",
   "id": "initial_id",
   "metadata": {
    "collapsed": true,
    "ExecuteTime": {
     "end_time": "2024-10-15T12:46:36.875733Z",
     "start_time": "2024-10-15T12:46:36.805607Z"
    }
   },
   "source": [
    "import numpy as np\n",
    "from roboticstoolbox import ETS, ERobot, ET\n",
    "from spatialmath import SE3\n",
    "from scipy.linalg import inv\n",
    "\n",
    "# Define your robot's Denavit-Hartenberg parameters or use ETS\n",
    "# For this example, I'll create a generic 6-DOF robot arm based on your previous code\n",
    "\n",
    "# Transformation dictionary for joint axes\n",
    "transform_dict = {\n",
    "    'z': ET.Rz,\n",
    "    'x': ET.Rx,\n",
    "    'y': ET.Ry\n",
    "}\n",
    "\n",
    "# Define the axes of the joints\n",
    "axes = ['z', 'y', 'z', 'y', 'z', 'y']  # Example configuration\n",
    "\n",
    "# Define link lengths (you can adjust these as needed)\n",
    "link_lengths = [0.2] * 6  # Example link lengths\n",
    "\n",
    "# Build the robot model\n",
    "def build_robot(link_lengths):\n",
    "    ets = ETS()\n",
    "    for length, axis in zip(link_lengths, axes):\n",
    "        ets *= transform_dict[axis]()  # Revolute joint\n",
    "        ets *= ET.tz(length)  # Translation along z-axis (link length)\n",
    "    robot = ERobot(ets, name='6-Link Robot Arm')\n",
    "\n",
    "    # Define link inertias and masses (assuming cylindrical links)\n",
    "    for i in range(6):\n",
    "        robot.links[i].m = np.pi * (0.03 ** 2) * link_lengths[i]  # Mass (density * volume)\n",
    "        robot.links[i].r = [0, 0, link_lengths[i] / 2]  # Center of mass at half the link\n",
    "        # Inertia tensor for a cylinder along z-axis\n",
    "        Ixx = (1/12) * robot.links[i].m * (3 * (0.03 ** 2) + link_lengths[i] ** 2)\n",
    "        Iyy = Ixx\n",
    "        Izz = (1/2) * robot.links[i].m * (0.03 ** 2)\n",
    "        robot.links[i].I = np.diag([Ixx, Iyy, Izz])  # Inertia matrix\n",
    "    return robot\n",
    "\n",
    "# Desired end-effector pose (example)\n",
    "T = SE3(0.5, 0.2, 0.3) * SE3.RPY([0.1, 0.2, 0.3])\n",
    "\n",
    "# Build the robot\n",
    "robot = build_robot(link_lengths)\n",
    "\n",
    "min = 1e6\n",
    "final_q = None\n",
    "for i in range(1):\n",
    "    # Solve inverse kinematics to find joint angles q\n",
    "    ik_result = robot.ikine_LM(T, mask=[1, 1, 1, 1, 1, 0])  # Mask to ignore the last joint\n",
    "    if not ik_result.success:\n",
    "        print(\"Inverse kinematics failed to find a solution.\")\n",
    "    else:\n",
    "        q = ik_result.q  # Joint angles\n",
    "        OSIM = robot.inertia_x(q)  # Operational space inertia matrix\n",
    "        OSIM_eig = np.linalg.eig(OSIM)[0]  # Eigenvalues of OSIM\n",
    "        min = np.min([min, np.min(OSIM_eig)])\n",
    "        final_q = q\n",
    "min"
   ],
   "outputs": [
    {
     "data": {
      "text/plain": [
       "1.6209406581812732e-06"
      ]
     },
     "execution_count": 2,
     "metadata": {},
     "output_type": "execute_result"
    }
   ],
   "execution_count": 2
  },
  {
   "metadata": {
    "ExecuteTime": {
     "end_time": "2024-10-15T09:46:14.754887Z",
     "start_time": "2024-10-15T09:46:14.743027Z"
    }
   },
   "cell_type": "code",
   "source": "final_q",
   "id": "babb4ebfbdb91355",
   "outputs": [
    {
     "data": {
      "text/plain": [
       "array([-2.17276358, -1.06301772,  2.44396571,  1.69257553,  1.09278467,\n",
       "       -2.18387829])"
      ]
     },
     "execution_count": 56,
     "metadata": {},
     "output_type": "execute_result"
    }
   ],
   "execution_count": 56
  },
  {
   "metadata": {
    "jupyter": {
     "is_executing": true
    },
    "ExecuteTime": {
     "start_time": "2024-10-15T12:47:30.171548Z"
    }
   },
   "cell_type": "code",
   "source": [
    "Nfeval = 1\n",
    "\n",
    "def callbackF(Xi, *conv):\n",
    "    global Nfeval\n",
    "    print(Nfeval, Xi, conv)\n",
    "    Nfeval += 1\n",
    "\n",
    "axes = ['z', 'y', 'z', 'y', 'z', 'y']  # Standard configuration\n",
    "\n",
    "transform_dict = {\n",
    "    'z': ET.Rz,\n",
    "    'x': ET.Rx,\n",
    "    'y': ET.Ry\n",
    "}\n",
    "\n",
    "# define inertia tensor for cylinder\n",
    "def inertia_tensor_cylinder(radius, height):\n",
    "    # Inertia tensor for a solid cylinder about its central axis\n",
    "    mass = np.pi * radius**2 * height\n",
    "    I_xx = (1/12) * mass * (3 * radius**2 + height**2)\n",
    "    I_yy = (1/12) * mass * (3 * radius**2 + height**2)\n",
    "    I_zz = (0.5) * mass * radius**2\n",
    "    return np.array([[I_xx, 0, 0],\n",
    "                     [0, I_yy, 0],\n",
    "                     [0, 0, I_zz]])\n",
    "\n",
    "mask = np.array([1, 1, 1, 1, 1, 0])\n",
    "T = SE3(0.5, 0.0, 0.1) * SE3.Rx(-np.pi)\n",
    "\n",
    "def manipulability_objective(link_lengths):\n",
    "    # print(link_lengths)\n",
    "    # Build the robot model with the given link lengths\n",
    "    ets = ETS()\n",
    "    for length, axis in zip(link_lengths, axes):\n",
    "        ets *= transform_dict[axis]()\n",
    "        ets *= ET.tz(length)\n",
    "    robot = ERobot(ets, name='6-Link Robot Arm')    \n",
    "    \n",
    "    for i in range(6):\n",
    "        robot.links[i].r = [0, 0, link_lengths[i]/2]\n",
    "        robot.links[i].I = inertia_tensor_cylinder(0.03, link_lengths[i])\n",
    "        robot.links[i].m = np.pi * 0.03 ** 2 * link_lengths[i]\n",
    "\n",
    "    # Solve IK\n",
    "    ik_result = robot.ikine_LM(T, mask=mask)\n",
    "    if not ik_result.success:\n",
    "        # print(link_lengths)\n",
    "        # print(\"Inverse kinematics failed to find a solution.\")\n",
    "        return 1e6\n",
    "    q = ik_result.q\n",
    "    \n",
    "    OSIM = robot.inertia_x(q)\n",
    "    OSIM_trace = np.trace(OSIM)\n",
    "    \n",
    "    return OSIM_trace\n",
    "\n",
    "l_tot_max = 2\n",
    "l_tot_min = 1\n",
    "\n",
    "initial_link_lengths = np.array([0.2] * 6)\n",
    "bounds = [(0.1, 0.2)] + [(0.1, 1)] * 5\n",
    "print(bounds)\n",
    "from scipy.optimize import differential_evolution, basinhopping, minimize, shgo, dual_annealing, least_squares\n",
    "\n",
    "result = differential_evolution(manipulability_objective, bounds, workers=-1, maxiter=1, popsize=10, recombination=0.9, mutation=0.2)\n",
    "# result = basinhopping(manipulability_objective, x0=initial_link_lengths, niter=100, disp=True, callback=callbackF)\n",
    "# result = shgo(manipulability_objective, bounds, n=100, iters=5, sampling_method='sobol', disp=True)\n",
    "# result = minimize(manipulability_objective, x0=initial_link_lengths, method='Nelder-Mead', options={'disp': True})\n",
    "# result = dual_annealing(manipulability_objective, bounds, maxiter=100, callback=callbackF, x0=initial_link_lengths)\n",
    "result"
   ],
   "id": "89a2c52c6eead5be",
   "outputs": [
    {
     "name": "stdout",
     "output_type": "stream",
     "text": [
      "[(0.1, 0.2), (0.1, 1), (0.1, 1), (0.1, 1), (0.1, 1), (0.1, 1)]\n"
     ]
    },
    {
     "name": "stderr",
     "output_type": "stream",
     "text": [
      "C:\\Users\\twang\\PycharmProjects\\BEP_notebooks\\.venv\\Lib\\site-packages\\scipy\\optimize\\_differentialevolution.py:488: UserWarning: differential_evolution: the 'workers' keyword has overridden updating='immediate' to updating='deferred'\n",
      "  with DifferentialEvolutionSolver(func, bounds, args=args,\n"
     ]
    }
   ],
   "execution_count": null
  },
  {
   "metadata": {},
   "cell_type": "code",
   "outputs": [],
   "execution_count": null,
   "source": "",
   "id": "b98e47d3b4e82701"
  }
 ],
 "metadata": {
  "kernelspec": {
   "display_name": "Python 3",
   "language": "python",
   "name": "python3"
  },
  "language_info": {
   "codemirror_mode": {
    "name": "ipython",
    "version": 2
   },
   "file_extension": ".py",
   "mimetype": "text/x-python",
   "name": "python",
   "nbconvert_exporter": "python",
   "pygments_lexer": "ipython2",
   "version": "2.7.6"
  }
 },
 "nbformat": 4,
 "nbformat_minor": 5
}
