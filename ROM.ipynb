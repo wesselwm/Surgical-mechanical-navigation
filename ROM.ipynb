{
 "cells": [
  {
   "attachments": {},
   "cell_type": "markdown",
   "metadata": {},
   "source": [
    "This script is a simple implementation of a simulation of the possible range of motion of a robot arm. "
   ]
  },
  {
   "cell_type": "code",
   "execution_count": 7,
   "metadata": {},
   "outputs": [],
   "source": [
    "import numpy as np \n",
    "from numpy import sin, cos, tan\n",
    "import matplotlib.pyplot as plt \n",
    "from mpl_toolkits.mplot3d import Axes3D"
   ]
  },
  {
   "cell_type": "code",
   "execution_count": 8,
   "metadata": {},
   "outputs": [],
   "source": [
    "class angle_range:\n",
    "    def __init__(self, lower_range, upper_range, angle_step=1):\n",
    "        self.lower_range = lower_range\n",
    "        self.upper_range = upper_range\n",
    "        self.angle_step = angle_step\n",
    "        self.range = np.arange(lower_range, (upper_range+1), angle_step)\n",
    "\n",
    "    def __call__(self):\n",
    "        return self.range\n",
    "\n",
    "yaw_rom = angle_range(-30, 30) #left/right rotation\n",
    "pitch_rom = angle_range(-20, 20) #neck lateral bending\n",
    "roll_rom = angle_range(-15, 15) #neck extension/ flexion\n",
    "\n",
    "implant_radius = 100.0 #mm\n",
    "centre = 0.0"
   ]
  },
  {
   "cell_type": "code",
   "execution_count": 9,
   "metadata": {},
   "outputs": [],
   "source": [
    "class Vector:\n",
    "    def __init__(self, x, y, z):\n",
    "        self.x = x\n",
    "        self.y = y\n",
    "        self.z = z\n",
    "        self.vector = np.array([[self.x], [self.y], [self.z]])\n",
    "    \n",
    "    def __mul__(self, other):\n",
    "        if isinstance(other, Vector):\n",
    "            return self.vector@other.vector\n",
    "        else:\n",
    "            return self.vector*other\n",
    "    \n",
    "    def __add__(self, other):\n",
    "        if isinstance(other, Vector):\n",
    "            return self.vector+other.vector\n",
    "        else:\n",
    "            return self.vector+other\n",
    "\n",
    "    def __radd__(self, other):\n",
    "        return other+self.vector\n",
    "\n",
    "    def __rmul__(self, other):\n",
    "        return other*self.vector\n"
   ]
  },
  {
   "cell_type": "code",
   "execution_count": 10,
   "metadata": {},
   "outputs": [],
   "source": [
    "class rotation_matrix:\n",
    "    def __init__(self, n_dimensions: int, yaw: float = 0.0, pitch: float = 0.0, roll: float = 0.0):\n",
    "        self.n_dimensions = n_dimensions\n",
    "        self.yaw = yaw\n",
    "        self.pitch = pitch\n",
    "        self.roll = roll\n",
    "        \n",
    "        match n_dimensions:\n",
    "            case 2:\n",
    "                self.rotation_matrix = np.array([[cos(yaw), -sin(yaw)], [sin(yaw), cos(yaw)]])\n",
    "            case 3:\n",
    "                self.yaw_matrix = np.array([[cos(yaw), -sin(yaw), 0], [sin(yaw), cos(yaw), 0], [0, 0, 1]])\n",
    "                self.pitch_matrix = np.array([[cos(pitch), 0, sin(pitch)], [0, 1, 0], [-sin(pitch), 0, cos(pitch)]])\n",
    "                self.roll_matrix = np.array([[1, 0, 0], [0, cos(roll), -sin(roll)], [0, sin(roll), cos(roll)]])\n",
    "                self.rotation_matrix = self.yaw_matrix @ self.pitch_matrix @ self.roll_matrix\n",
    "    \n",
    "    def transpose(self):\n",
    "        return np.transpose(self.rotation_matrix)\n",
    "\n",
    "    def inverse(self):\n",
    "        return np.transpose(self.rotation_matrix)\n",
    "    \n",
    "    def __mul__(self, other):\n",
    "        if isinstance(other, rotation_matrix):\n",
    "            return self.rotation_matrix @ other.rotation_matrix\n",
    "        \n",
    "        elif isinstance(other, Vector):\n",
    "            return self.rotation_matrix @ other.vector\n",
    "        else:\n",
    "            return self.rotation_matrix * other\n",
    "    \n",
    "    def __rmul__(self, other):\n",
    "        if isinstance(other, Vector):\n",
    "            return other.vector @ self.rotation_matrix\n",
    "        elif not isinstance(other, rotation_matrix):\n",
    "            return other * self.rotation_matrix\n",
    "    \n",
    "    def __add__(self, other):\n",
    "        \"\"\" Note that to add or subtract matrices they have to be of the same size\n",
    "        \"\"\"\n",
    "        if isinstance(other, rotation_matrix):\n",
    "            try:\n",
    "                return self.rotation_matrix + other.rotation_matrix\n",
    "            except ValueError:\n",
    "                return \"Operation is not possible check the sizes of the matrices\"\n",
    "\n",
    "    def __repr__(self):\n",
    "        return self.rotation_matrix\n",
    "    \n",
    "    \n"
   ]
  },
  {
   "cell_type": "code",
   "execution_count": 11,
   "metadata": {},
   "outputs": [],
   "source": [
    "ROM_points = []\n",
    "\n",
    "start_vector = Vector(0.0, implant_radius, 0.0)\n",
    "\n",
    "\n",
    "for yaw_angle in yaw_rom.range:\n",
    "    for pitch_angle in pitch_rom.range:\n",
    "        for roll_angle in roll_rom.range:\n",
    "            ro_matrix = rotation_matrix(3, yaw_angle, pitch_angle, roll_angle)\n",
    "            new_vector = ro_matrix*start_vector\n",
    "            ROM_points.append(new_vector)"
   ]
  }
 ],
 "metadata": {
  "kernelspec": {
   "display_name": "env",
   "language": "python",
   "name": "python3"
  },
  "language_info": {
   "codemirror_mode": {
    "name": "ipython",
    "version": 3
   },
   "file_extension": ".py",
   "mimetype": "text/x-python",
   "name": "python",
   "nbconvert_exporter": "python",
   "pygments_lexer": "ipython3",
   "version": "3.12.4"
  },
  "orig_nbformat": 4
 },
 "nbformat": 4,
 "nbformat_minor": 2
}
