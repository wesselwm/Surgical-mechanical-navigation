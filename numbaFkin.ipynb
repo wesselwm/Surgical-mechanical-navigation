{
 "cells": [
  {
   "cell_type": "code",
   "id": "initial_id",
   "metadata": {
    "collapsed": true,
    "ExecuteTime": {
     "end_time": "2024-10-11T11:08:40.828172Z",
     "start_time": "2024-10-11T11:08:35.780106Z"
    }
   },
   "source": [
    "import numpy as np\n",
    "from numba import njit, prange\n",
    "from tqdm import tqdm\n",
    "import itertools\n",
    "\n",
    "# Function to create a 4x4 transformation matrix from a rotation matrix and translation vector\n",
    "@njit\n",
    "def transformation_matrix(rotation, translation):\n",
    "    T = np.eye(4)\n",
    "    T[0:3, 0:3] = rotation\n",
    "    T[0:3, 3] = translation\n",
    "    return T\n",
    "\n",
    "# Function to create a rotation matrix around x-axis\n",
    "@njit\n",
    "def rot_x(theta):\n",
    "    arr1 = np.array([1, 0, 0])\n",
    "    arr2 = np.array([0, np.cos(theta), -np.sin(theta)])\n",
    "    arr3 = np.array([0, np.sin(theta), np.cos(theta)])\n",
    "    return np.stack((arr1, arr2, arr3))\n",
    "    \n",
    "# Function to create a rotation matrix around z-axis\n",
    "@njit\n",
    "def rot_z(theta):\n",
    "    arr1 = np.array([np.cos(theta), -np.sin(theta), 0])\n",
    "    arr2 = np.array([np.sin(theta), np.cos(theta), 0])\n",
    "    arr3 = np.array([0, 0, 1])\n",
    "    return np.stack((arr1, arr2, arr3))\n",
    "\n",
    "def rot_y(theta):\n",
    "    arr1 = np.array([np.cos(theta), 0, np.sin(theta)])\n",
    "    arr2 = np.array([0, 1, 0])\n",
    "    arr3 = np.array([-np.sin(theta), 0, np.cos(theta)])\n",
    "    return np.stack((arr1, arr2, arr3))\n",
    "\n",
    "# Forward kinematics function\n",
    "@njit\n",
    "def fkin(angles):\n",
    "    # Link lengths (assuming l1 = 0, l2 = l3 = l4 = l5 = l6 = 1)\n",
    "    lengths = np.array([0, 0.2, 0.2, 0.2, 0.2, 0.2])\n",
    "\n",
    "    # Define the translation vectors for each link\n",
    "    links = [np.array([0, 0, lengths[i]]) for i in range(6)]\n",
    "\n",
    "    # Rotation matrices for each joint\n",
    "    R1 = rot_z(angles[0])\n",
    "    R2 = rot_x(angles[1])\n",
    "    R3 = rot_z(angles[2])\n",
    "    R4 = rot_x(angles[3])\n",
    "    R5 = rot_z(angles[4])\n",
    "    R6 = rot_x(angles[5])\n",
    "\n",
    "    # Transformation Matrices\n",
    "    T1 = transformation_matrix(R1, links[0])\n",
    "    T2 = transformation_matrix(R2, links[1])\n",
    "    T3 = transformation_matrix(R3, links[2])\n",
    "    T4 = transformation_matrix(R4, links[3])\n",
    "    T5 = transformation_matrix(R5, links[4])\n",
    "    T6 = transformation_matrix(R6, links[5])\n",
    "\n",
    "    # Transformation for the end effector (assuming no additional rotation)\n",
    "    T7_end_eff = transformation_matrix(np.eye(3), np.array([0, 0, 0.2]))\n",
    "\n",
    "    # Compute the overall transformation matrix\n",
    "    T_final = T1 @ T2 @ T3 @ T4 @ T5 @ T6 @ T7_end_eff\n",
    "\n",
    "    return T_final\n",
    "    \n",
    "#convert arc second to bits\n",
    "arcsec35 = 10/3600\n",
    "#convert to rad\n",
    "rad35 = arcsec35*np.pi/180\n",
    "\n",
    "# convert resolution to radians\n",
    "res_rad = rad35\n",
    "# res_rad = 2*np.pi/resolution/2\n",
    "elements = [-res_rad, 0, res_rad]\n",
    "combinations = np.array(list(itertools.product(elements, repeat=6)))\n",
    "\n",
    "# calculate the error between the two methods\n",
    "pos0 = fkin(np.zeros(6))[:3,3]\n",
    "pos0_error = fkin(np.ones(6)*res_rad)[:3,3]\n",
    "base_error = np.linalg.norm(pos0-pos0_error)\n",
    "\n",
    "max_error = 0\n",
    "final_config = None\n",
    "for i in range(100000):\n",
    "    # config = np.random.rand(6)*2*np.pi\n",
    "    config = np.random.uniform(low=-1, high=1, size=6)*np.pi\n",
    "    config_pos = fkin(config)[:3,3]\n",
    "    error_pos = fkin(config+np.ones(6)*res_rad)[:3,3]\n",
    "    error = np.linalg.norm(config_pos-error_pos)\n",
    "    if error > max_error:\n",
    "        max_error = error\n",
    "        final_config = config\n",
    "\n",
    "print(\"base_error: \", f\"{base_error*1000:.5f}\", \"mm\")\n",
    "print(\"max_error: \", f\"{max_error*1000:.5f}\", \"mm\")\n",
    "# print(\"final_config: \", final_config)\n",
    "# fkin(np.zeros(6))[:3,3]"
   ],
   "outputs": [
    {
     "name": "stdout",
     "output_type": "stream",
     "text": [
      "base_error:  0.08727 mm\n",
      "max_error:  0.10913 mm\n"
     ]
    }
   ],
   "execution_count": 11
  },
  {
   "metadata": {
    "ExecuteTime": {
     "end_time": "2024-09-26T13:07:56.310591Z",
     "start_time": "2024-09-26T13:06:48.473929Z"
    }
   },
   "cell_type": "code",
   "source": [
    "@njit(parallel=True)\n",
    "def main():\n",
    "    \n",
    "    # calculate the error between the two methods\n",
    "    pos0 = fkin(np.zeros(6))[:3,3]\n",
    "    pos0_error = fkin(np.ones(6)*res_rad)[:3,3]\n",
    "    base_error = np.linalg.norm(pos0-pos0_error)\n",
    "    \n",
    "    max_error = 0\n",
    "    final_config = None\n",
    "    for i in range(1000):\n",
    "        for combo in combinations:\n",
    "            config = np.random.rand(6)*2*np.pi\n",
    "            config_pos = fkin(config)[:3,3]\n",
    "            error_pos = fkin(config+np.ones(6)*combo)[:3,3]\n",
    "            error = np.linalg.norm(config_pos-error_pos)\n",
    "            if error > max_error:\n",
    "                max_error = error\n",
    "                final_config = config\n",
    "        \n",
    "    print(\"base_error: \", base_error)\n",
    "    print(\"max_error: \", max_error)\n",
    "    \n",
    "main()"
   ],
   "id": "846a500d8ee7b429",
   "outputs": [
    {
     "name": "stdout",
     "output_type": "stream",
     "text": [
      "base_error:  0.00017257283782687297\n",
      "max_error:  0.0002132658418262815\n"
     ]
    }
   ],
   "execution_count": 50
  },
  {
   "metadata": {
    "ExecuteTime": {
     "end_time": "2024-09-26T08:14:42.640903Z",
     "start_time": "2024-09-26T08:14:41.020942Z"
    }
   },
   "cell_type": "code",
   "source": [
    "from scipy import optimize\n",
    "from scipy.optimize import basinhopping\n",
    "\n",
    "def objective(q, sign=-1.0):\n",
    "    q_error = q + np.ones(6)*res_rad\n",
    "    pos = fkin(q)[:3,3]\n",
    "    pos_error = fkin(q_error)[:3,3]\n",
    "    error = np.linalg.norm(pos-pos_error)\n",
    "    return sign*error\n",
    "\n",
    "minimizer_kwargs = {\"method\": \"BFGS\"}\n",
    "ret = basinhopping(objective, np.random.rand(6)*np.pi*2, minimizer_kwargs=minimizer_kwargs, niter=100)\n",
    "ret.fun"
   ],
   "id": "e3af23537ca6b4fa",
   "outputs": [
    {
     "data": {
      "text/plain": [
       "-8.942333446576457e-05"
      ]
     },
     "execution_count": 8,
     "metadata": {},
     "output_type": "execute_result"
    }
   ],
   "execution_count": 8
  },
  {
   "metadata": {
    "ExecuteTime": {
     "end_time": "2024-09-26T08:23:29.069325Z",
     "start_time": "2024-09-26T08:23:29.062810Z"
    }
   },
   "cell_type": "code",
   "source": "f\"{5.3362423003142376e-05:.5f}\"",
   "id": "1a8064ee1959f692",
   "outputs": [
    {
     "data": {
      "text/plain": [
       "'0.00005'"
      ]
     },
     "execution_count": 21,
     "metadata": {},
     "output_type": "execute_result"
    }
   ],
   "execution_count": 21
  },
  {
   "metadata": {
    "ExecuteTime": {
     "end_time": "2024-10-10T13:41:55.159788Z",
     "start_time": "2024-10-10T13:41:55.151665Z"
    }
   },
   "cell_type": "code",
   "outputs": [
    {
     "name": "stdout",
     "output_type": "stream",
     "text": [
      "7.062639542651857 0.8828299428522842\n"
     ]
    }
   ],
   "execution_count": 5,
   "source": [
    "import numpy as np\n",
    "res_fout19 = np.sin(2*np.pi/(2**19))*1000\n",
    "res_fout22 = np.sin(2*np.pi/(2**22))*1000\n",
    "\n",
    "\n",
    "#convert arc second to bits\n",
    "arcsec35 = 35/3600\n",
    "#convert to rad\n",
    "rad35 = arcsec35*np.pi/180\n",
    "acc_fout = np.sin(rad35)*1000\n",
    "print(res_fout19/acc_fout * 100, res_fout22/acc_fout * 100)"
   ],
   "id": "c67799864dcafe2"
  },
  {
   "metadata": {
    "ExecuteTime": {
     "end_time": "2024-10-11T14:29:34.425790Z",
     "start_time": "2024-10-11T14:29:34.391662Z"
    }
   },
   "cell_type": "code",
   "source": [
    "#convert arc second to bits\n",
    "arcsec20 = 35/3600\n",
    "#convert to rad\n",
    "rad20 = arcsec20*np.pi/180\n",
    "np.sin(rad20)*800"
   ],
   "id": "fdbd56404b64c200",
   "outputs": [
    {
     "data": {
      "text/plain": [
       "0.13574783005924052"
      ]
     },
     "execution_count": 12,
     "metadata": {},
     "output_type": "execute_result"
    }
   ],
   "execution_count": 12
  },
  {
   "metadata": {
    "ExecuteTime": {
     "end_time": "2024-10-10T10:17:34.841033Z",
     "start_time": "2024-10-10T10:17:34.834909Z"
    }
   },
   "cell_type": "code",
   "source": "26/3600",
   "id": "71ef20f036a13164",
   "outputs": [
    {
     "data": {
      "text/plain": [
       "0.007222222222222222"
      ]
     },
     "execution_count": 14,
     "metadata": {},
     "output_type": "execute_result"
    }
   ],
   "execution_count": 14
  },
  {
   "metadata": {
    "ExecuteTime": {
     "end_time": "2024-10-10T10:17:48.557442Z",
     "start_time": "2024-10-10T10:17:48.552187Z"
    }
   },
   "cell_type": "code",
   "source": "360/7500",
   "id": "1b5cf7a4b1b169b",
   "outputs": [
    {
     "data": {
      "text/plain": [
       "0.048"
      ]
     },
     "execution_count": 15,
     "metadata": {},
     "output_type": "execute_result"
    }
   ],
   "execution_count": 15
  },
  {
   "metadata": {},
   "cell_type": "code",
   "outputs": [],
   "execution_count": null,
   "source": "",
   "id": "91a2034fc48d248c"
  }
 ],
 "metadata": {
  "kernelspec": {
   "display_name": "Python 3",
   "language": "python",
   "name": "python3"
  },
  "language_info": {
   "codemirror_mode": {
    "name": "ipython",
    "version": 2
   },
   "file_extension": ".py",
   "mimetype": "text/x-python",
   "name": "python",
   "nbconvert_exporter": "python",
   "pygments_lexer": "ipython2",
   "version": "2.7.6"
  }
 },
 "nbformat": 4,
 "nbformat_minor": 5
}
