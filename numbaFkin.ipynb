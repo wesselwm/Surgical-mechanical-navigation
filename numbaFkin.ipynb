{
 "cells": [
  {
   "cell_type": "code",
   "id": "initial_id",
   "metadata": {
    "collapsed": true,
    "ExecuteTime": {
     "end_time": "2024-09-24T09:14:06.150804Z",
     "start_time": "2024-09-24T09:14:02.295174Z"
    }
   },
   "source": [
    "import numpy as np\n",
    "from numba import njit, prange\n",
    "from numba.np.ufunc.omppool import parallel_for\n",
    "from tqdm import tqdm\n",
    "import itertools\n",
    "\n",
    "# Function to create a 4x4 transformation matrix from a rotation matrix and translation vector\n",
    "@njit\n",
    "def transformation_matrix(rotation, translation):\n",
    "    T = np.eye(4)\n",
    "    T[0:3, 0:3] = rotation\n",
    "    T[0:3, 3] = translation\n",
    "    return T\n",
    "\n",
    "# Function to create a rotation matrix around x-axis\n",
    "@njit\n",
    "def rot_x(theta):\n",
    "    arr1 = np.array([1, 0, 0])\n",
    "    arr2 = np.array([0, np.cos(theta), -np.sin(theta)])\n",
    "    arr3 = np.array([0, np.sin(theta), np.cos(theta)])\n",
    "    return np.stack((arr1, arr2, arr3))\n",
    "    \n",
    "# Function to create a rotation matrix around z-axis\n",
    "@njit\n",
    "def rot_z(theta):\n",
    "    arr1 = np.array([np.cos(theta), -np.sin(theta), 0])\n",
    "    arr2 = np.array([np.sin(theta), np.cos(theta), 0])\n",
    "    arr3 = np.array([0, 0, 1])\n",
    "    return np.stack((arr1, arr2, arr3))\n",
    "\n",
    "# Forward kinematics function\n",
    "@njit\n",
    "def fkin(angles):\n",
    "    # Link lengths (assuming l1 = 0, l2 = l3 = l4 = l5 = l6 = 1)\n",
    "    lengths = np.array([0, .2, .2, .2, .2, .2])\n",
    "\n",
    "    # Define the translation vectors for each link\n",
    "    links = [np.array([0, 0, lengths[i]]) for i in range(6)]\n",
    "\n",
    "    # Rotation matrices for each joint\n",
    "    R1 = rot_z(angles[0])\n",
    "    R2 = rot_x(angles[1])\n",
    "    R3 = rot_z(angles[2])\n",
    "    R4 = rot_x(angles[3])\n",
    "    R5 = rot_z(angles[4])\n",
    "    R6 = rot_x(angles[5])\n",
    "\n",
    "    # Transformation Matrices\n",
    "    T1 = transformation_matrix(R1, links[0])\n",
    "    T2 = transformation_matrix(R2, links[1])\n",
    "    T3 = transformation_matrix(R3, links[2])\n",
    "    T4 = transformation_matrix(R4, links[3])\n",
    "    T5 = transformation_matrix(R5, links[4])\n",
    "    T6 = transformation_matrix(R6, links[5])\n",
    "\n",
    "    # Transformation for the end effector (assuming no additional translation)\n",
    "    T7_end_eff = transformation_matrix(np.eye(3), np.array([0, 0, 1]))\n",
    "\n",
    "    # Compute the overall transformation matrix\n",
    "    T_final = T1 @ T2 @ T3 @ T4 @ T5 @ T6 @ T7_end_eff\n",
    "\n",
    "    return T_final\n",
    "\n",
    "# resolUtion of 18 bit\n",
    "resolution = 2**16\n",
    "# convert resolution to radians\n",
    "res_rad = 2*np.pi/resolution\n",
    "elements = [-res_rad, 0, res_rad]\n",
    "combinations = np.array(list(itertools.product(elements, repeat=6)))\n",
    "\n",
    "# calculate the error between the two methods\n",
    "pos0 = fkin(np.zeros(6))[:3,3]\n",
    "pos0_error = fkin(np.ones(6)*res_rad)[:3,3]\n",
    "base_error = np.linalg.norm(pos0-pos0_error)\n",
    "\n",
    "max_error = 0\n",
    "final_config = None\n",
    "for i in range(10000):\n",
    "    config = np.random.rand(6)*2*np.pi\n",
    "    config_pos = fkin(config)[:3,3]\n",
    "    error_pos = fkin(config+np.ones(6)*res_rad)[:3,3]\n",
    "    error = np.linalg.norm(config_pos-error_pos)\n",
    "    if error > max_error:\n",
    "        max_error = error\n",
    "        final_config = config\n",
    "\n",
    "print(\"base_error: \", base_error)\n",
    "print(\"max_error: \", max_error)"
   ],
   "outputs": [
    {
     "name": "stdout",
     "output_type": "stream",
     "text": [
      "base_error:  0.00040266995433254385\n",
      "max_error:  0.0004994250295230312\n"
     ]
    }
   ],
   "execution_count": 1
  },
  {
   "metadata": {},
   "cell_type": "code",
   "outputs": [],
   "execution_count": null,
   "source": [
    "@njit(parallel=True)\n",
    "def main():\n",
    "    \n",
    "    # calculate the error between the two methods\n",
    "    pos0 = fkin(np.zeros(6))[:3,3]\n",
    "    pos0_error = fkin(np.ones(6)*res_rad)[:3,3]\n",
    "    base_error = np.linalg.norm(pos0-pos0_error)\n",
    "    \n",
    "    max_error = 0\n",
    "    final_config = None\n",
    "    for i in range(100):\n",
    "        for combo in combinations:\n",
    "            config = np.random.rand(6)*2*np.pi\n",
    "            config_pos = fkin(config)[:3,3]\n",
    "            error_pos = fkin(config+np.ones(6)*combo)[:3,3]\n",
    "            error = np.linalg.norm(config_pos-error_pos)\n",
    "            if error > max_error:\n",
    "                max_error = error\n",
    "                final_config = config\n",
    "        \n",
    "    print(\"base_error: \", base_error)\n",
    "    print(\"max_error: \", max_error)"
   ],
   "id": "846a500d8ee7b429"
  },
  {
   "metadata": {
    "ExecuteTime": {
     "end_time": "2024-09-24T08:41:18.959582Z",
     "start_time": "2024-09-24T08:40:57.866524Z"
    }
   },
   "cell_type": "code",
   "source": [
    "from scipy import optimize\n",
    "from scipy.optimize import basinhopping\n",
    "\n",
    "def objective(q, sign=-1.0):\n",
    "    q_error = q + np.ones(6)*res_rad\n",
    "    pos = fkin(q)[:3,3]\n",
    "    pos_error = fkin(q_error)[:3,3]\n",
    "    error = np.linalg.norm(pos-pos_error)\n",
    "    return sign*error\n",
    "\n",
    "minimizer_kwargs = {\"method\": \"BFGS\"}\n",
    "ret = basinhopping(objective, np.random.rand(6)*np.pi*2, minimizer_kwargs=minimizer_kwargs, niter=1000)\n",
    "ret.fun"
   ],
   "id": "e3af23537ca6b4fa",
   "outputs": [
    {
     "data": {
      "text/plain": [
       "-0.0005133626671904155"
      ]
     },
     "execution_count": 33,
     "metadata": {},
     "output_type": "execute_result"
    }
   ],
   "execution_count": 33
  },
  {
   "metadata": {},
   "cell_type": "code",
   "outputs": [],
   "execution_count": null,
   "source": "",
   "id": "1a8064ee1959f692"
  }
 ],
 "metadata": {
  "kernelspec": {
   "display_name": "Python 3",
   "language": "python",
   "name": "python3"
  },
  "language_info": {
   "codemirror_mode": {
    "name": "ipython",
    "version": 2
   },
   "file_extension": ".py",
   "mimetype": "text/x-python",
   "name": "python",
   "nbconvert_exporter": "python",
   "pygments_lexer": "ipython2",
   "version": "2.7.6"
  }
 },
 "nbformat": 4,
 "nbformat_minor": 5
}
