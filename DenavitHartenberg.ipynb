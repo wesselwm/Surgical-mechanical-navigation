{
 "cells": [
  {
   "cell_type": "code",
   "id": "initial_id",
   "metadata": {
    "ExecuteTime": {
     "end_time": "2024-10-14T13:57:03.731803Z",
     "start_time": "2024-10-14T13:57:03.686284Z"
    }
   },
   "source": [
    "import roboticstoolbox as rtb\n",
    "from mpl_toolkits.mplot3d.proj3d import transform\n",
    "from roboticstoolbox import ERobot, ET, ETS\n",
    "from scipy.spatial.transform import Rotation as R\n",
    "from itertools import product\n",
    "import numpy as np\n",
    "from spatialmath import *\n",
    "\n",
    "\n",
    "# Define the sequence of rotation axes for the joints\n",
    "axes = ['z', 'x', 'z', 'x', 'z', 'x']\n",
    "lengths = [0.2, 0.2, 0.2, 0.2, 0.2, 0.2]\n",
    "# Initialize an empty ETS\n",
    "\n",
    "def create_robot(axes, lengths):\n",
    "    \n",
    "    # define inertia tensor for cylinder\n",
    "    def inertia_tensor_cylinder(radius, height):\n",
    "        # Inertia tensor for a solid cylinder about its central axis\n",
    "        mass = np.pi * radius**2 * height\n",
    "        I_xx = (1/12) * mass * (3 * radius**2 + height**2)\n",
    "        I_yy = (1/12) * mass * (3 * radius**2 + height**2)\n",
    "        I_zz = (0.5) * mass * radius**2\n",
    "        return np.array([[I_xx, 0, 0],\n",
    "                         [0, I_yy, 0],\n",
    "                         [0, 0, I_zz]])\n",
    "    \n",
    "    \n",
    "    transform_dict = {\n",
    "    'z': ET.Rz,\n",
    "    'x': ET.Rx,\n",
    "    'y': ET.Ry\n",
    "    }\n",
    "    \n",
    "    ets = ETS()\n",
    "    for length, axis in zip(lengths, axes):\n",
    "        ets *= transform_dict[axis]()\n",
    "        ets *= ET.tz(length)\n",
    "        \n",
    "    robot = ERobot(ets, name='6-Link Robot Arm')\n",
    "    \n",
    "    for i in range(6):\n",
    "        robot.links[i].r = [0, 0, 0.2]\n",
    "        robot.links[i].I = inertia_tensor_cylinder(0.1, 0.4)\n",
    "        robot.links[i].m = np.pi * 0.1**2 * 0.4\n",
    "    \n",
    "    return robot\n",
    "\n",
    "my_robot = create_robot(axes, lengths)\n",
    "\n",
    "T = SE3(0, 0.4, 0.4) * SE3.Rx(-np.pi*3/4)\n",
    "mask = np.array([1, 1, 1, 1, 1, 0])\n",
    "\n",
    "result = my_robot.ikine_LM(T, mask=mask, q0 = np.zeros(6))\n",
    "\n",
    "print(my_robot.manipulability(result.q, method='yoshikawa'))\n",
    "print(result)\n",
    "#get rotation matrix from fkine\n",
    "my_robot.fkine(result.q).R @ np.array([0, 0, 1])"
   ],
   "outputs": [
    {
     "name": "stdout",
     "output_type": "stream",
     "text": [
      "0.018324829587305868\n",
      "IKSolution: q=[0, 0.3577, 0, -2.012, 0, -0.7021], success=True, iterations=7, searches=1, residual=1.98e-07\n"
     ]
    },
    {
     "data": {
      "text/plain": [
       "array([ 0.        ,  0.70710678, -0.70710678])"
      ]
     },
     "execution_count": 77,
     "metadata": {},
     "output_type": "execute_result"
    }
   ],
   "execution_count": 77
  },
  {
   "metadata": {},
   "cell_type": "code",
   "outputs": [],
   "execution_count": null,
   "source": [
    "initial = np.array([0, 100, 0])\n",
    "z_range = np.linspace(np.radians(-70), np.radians(70), 30) #left/right rotation\n",
    "y_range = np.linspace(np.radians(-40), np.radians(40), 30) #neck lateral bending\n",
    "x_range = np.linspace(np.radians(-60), np.radians(60), 30) #neck extension/ flexion\n",
    "\n",
    "prod = np.array(list(product(z_range, y_range, x_range)))\n",
    "\n",
    "rotations = R.from_euler('zyx', prod, degrees=False)\n",
    "rotated = rotations.apply(initial)\n",
    "\n",
    "zipper = zip(rotations, rotated)"
   ],
   "id": "209ffccfdac836a5"
  },
  {
   "metadata": {
    "ExecuteTime": {
     "end_time": "2024-10-14T10:30:23.338930Z",
     "start_time": "2024-10-14T10:30:20.216124Z"
    }
   },
   "cell_type": "code",
   "source": [
    "from tqdm import tqdm\n",
    "\n",
    "Nfeval = 1\n",
    "\n",
    "def callbackF(Xi, *rest1, **rest2):\n",
    "    global Nfeval\n",
    "    print(Nfeval, Xi, rest1, rest2)\n",
    "    Nfeval += 1\n",
    "\n",
    "axes = ['z', 'y', 'z', 'y', 'z', 'y']  # Standard configuration\n",
    "\n",
    "transform_dict = {\n",
    "    'z': ET.Rz,\n",
    "    'x': ET.Rx,\n",
    "    'y': ET.Ry\n",
    "}\n",
    "\n",
    "def manipulability_objective(link_lengths):\n",
    "    # Build the robot model with the given link lengths\n",
    "    ets = ETS()\n",
    "    for length, axis in zip(link_lengths, axes):\n",
    "        ets *= transform_dict[axis]()\n",
    "        ets *= ET.tz(length)\n",
    "    robot = ERobot(ets, name='6-Link Robot Arm')    \n",
    "    # Solve IK\n",
    "    ik_result = robot.ikine_LM(T, q0=np.zeros(6))\n",
    "    if not ik_result.success:\n",
    "        return 1e6\n",
    "    q = ik_result.q\n",
    "    \n",
    "    # Compute Asada manipulability\n",
    "    manipulability = robot.manipulability(q, method='yoshikawa')\n",
    "    \n",
    "    return -manipulability\n",
    "\n",
    "from scipy.optimize import minimize, differential_evolution, basinhopping\n",
    "\n",
    "initial_link_lengths = [0.2] * 6\n",
    "bounds = [(0.1, 0.7)] * 6\n",
    "\n",
    "# result1 = differential_evolution(manipulability_objective, bounds, maxiter=1000, popsize=15, callback=callbackF)\n",
    "# result2 = basinhopping(manipulability_objective, initial_link_lengths, niter=1, T=0.1, stepsize=0.1, callback=callbackF)\n",
    "\n",
    "result = minimize(manipulability_objective, initial_link_lengths, bounds=bounds, method='L-BFGS-B', options={'maxiter': 1000}, callback=callbackF)\n",
    "\n",
    "\n",
    "# print(f\"Optimized Link Lengths: {result1.x}\")\n",
    "# print(f\"Optimized Link Lengths: {result2.x}\")\n",
    "# print(f\"Maximum Asada Manipulability: {-result1.fun}\")\n",
    "# print(f\"Maximum Asada Manipulability: {-result2.fun}\")\n",
    "\n",
    "print(f\"Optimized Link Lengths: {result.x}\")\n",
    "print(f\"Maximum Asada Manipulability: {-result.fun}\")"
   ],
   "id": "311e4562c735ec94",
   "outputs": [
    {
     "name": "stdout",
     "output_type": "stream",
     "text": [
      "1 [0.26844375 0.26844375 0.26844375 0.22916523 0.2271932  0.20213457] () {}\n",
      "2 [0.26844375 0.26844375 0.26844375 0.22916523 0.2271932  0.20213457] () {}\n",
      "Optimized Link Lengths: [0.26844375 0.26844375 0.26844375 0.22916523 0.2271932  0.20213457]\n",
      "Maximum Asada Manipulability: 0.11641707578545891\n"
     ]
    }
   ],
   "execution_count": 23
  },
  {
   "metadata": {
    "ExecuteTime": {
     "end_time": "2024-10-14T13:31:00.348639Z",
     "start_time": "2024-10-14T13:31:00.337471Z"
    }
   },
   "cell_type": "code",
   "source": [
    "from sympy import *\n",
    "rot=diag(1, -1, -1)\n",
    "vec=Matrix([0, 0, 1])\n",
    "\n",
    "rot@vec\n"
   ],
   "id": "afacbbd0d9467948",
   "outputs": [
    {
     "data": {
      "text/plain": [
       "Matrix([\n",
       "[ 0],\n",
       "[ 0],\n",
       "[-1]])"
      ],
      "text/latex": "$\\displaystyle \\left[\\begin{matrix}0\\\\0\\\\-1\\end{matrix}\\right]$"
     },
     "execution_count": 53,
     "metadata": {},
     "output_type": "execute_result"
    }
   ],
   "execution_count": 53
  },
  {
   "metadata": {},
   "cell_type": "code",
   "outputs": [],
   "execution_count": null,
   "source": "",
   "id": "47d8fb74ab0a834b"
  }
 ],
 "metadata": {
  "kernelspec": {
   "display_name": "Python 3 (ipykernel)",
   "language": "python",
   "name": "python3"
  },
  "language_info": {
   "codemirror_mode": {
    "name": "ipython",
    "version": 3
   },
   "file_extension": ".py",
   "mimetype": "text/x-python",
   "name": "python",
   "nbconvert_exporter": "python",
   "pygments_lexer": "ipython3",
   "version": "3.12.2"
  }
 },
 "nbformat": 4,
 "nbformat_minor": 5
}
