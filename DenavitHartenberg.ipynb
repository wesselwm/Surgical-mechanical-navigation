{
 "cells": [
  {
   "cell_type": "code",
   "id": "initial_id",
   "metadata": {
    "ExecuteTime": {
     "end_time": "2024-10-06T19:19:59.988323Z",
     "start_time": "2024-10-06T19:19:59.902710Z"
    }
   },
   "source": [
    "import time\n",
    "import roboticstoolbox as rtb\n",
    "from roboticstoolbox import ERobot, ET, ETS\n",
    "from spatialmath import SE3\n",
    "from spatialgeometry import Mesh\n",
    "from scipy.spatial.transform import Rotation as R\n",
    "from itertools import product\n",
    "import numpy as np\n",
    "from spatialmath.base import transl\n",
    "\n",
    "# Define the sequence of rotation axes for the joints\n",
    "axes = ['z', 'x', 'z', 'x', 'z', 'x']\n",
    "lengths = [0.2, 0.2, 0.2, 0.2, 0.2, 0.2]\n",
    "# Initialize an empty ETS\n",
    "ets = ETS()\n",
    "\n",
    "transform_dict = {\n",
    "    'z': ET.Rz,\n",
    "    'x': ET.Rx,\n",
    "    'y': ET.Ry\n",
    "}\n",
    "\n",
    "\n",
    "# define inertia tensor for cylinder\n",
    "def inertia_tensor_cylinder(mass, radius, height):\n",
    "    # Inertia tensor for a solid cylinder about its central axis\n",
    "    I_xx = (1/12) * mass * (3 * radius**2 + height**2)\n",
    "    I_yy = (1/12) * mass * (3 * radius**2 + height**2)\n",
    "    I_zz = (0.5) * mass * radius**2\n",
    "    return np.array([[I_xx, 0, 0],\n",
    "                     [0, I_yy, 0],\n",
    "                     [0, 0, I_zz]])\n",
    "\n",
    "\n",
    "# Build the ETS by appending a variable rotation about each specified axis\n",
    "for length, axis in zip(lengths, axes):\n",
    "    ets *= transform_dict[axis]()\n",
    "    ets *= ET.tz(length)\n",
    "\n",
    "# Create the robot model from the ETS\n",
    "robot = ERobot(ets, name='6-Link Robot Arm')\n",
    "\n",
    "initial = np.array([0, 100, 0])\n",
    "z_range = np.linspace(np.radians(-70), np.radians(70), 30) #left/right rotation\n",
    "y_range = np.linspace(np.radians(-40), np.radians(40), 30) #neck lateral bending\n",
    "x_range = np.linspace(np.radians(-60), np.radians(60), 30) #neck extension/ flexion\n",
    "\n",
    "prod = np.array(list(product(z_range, y_range, x_range)))\n",
    "\n",
    "rotations = R.from_euler('zyx', prod, degrees=False)\n",
    "rotated = rotations.apply(initial)\n",
    "\n",
    "zipper = zip(rotations, rotated)\n",
    "\n",
    "import spatialmath.base as base\n",
    "q = base.sym.symbol(\"q_:6\")\n",
    "# do inverese dynamics    \n",
    "robot.manipulability(q=np.zeros(6), method='asada')\n",
    "# robot.jacobe(q)"
   ],
   "outputs": [
    {
     "data": {
      "text/plain": [
       "0.0"
      ]
     },
     "execution_count": 4,
     "metadata": {},
     "output_type": "execute_result"
    }
   ],
   "execution_count": 4
  },
  {
   "metadata": {
    "ExecuteTime": {
     "end_time": "2024-10-06T19:22:45.193870Z",
     "start_time": "2024-10-06T19:22:45.175884Z"
    }
   },
   "cell_type": "code",
   "source": [
    "robot.links[0].r = [0, 0, 0.1]\n",
    "robot.links[0].I = inertia_tensor_cylinder(5, 0.1, 0.4)\n",
    "robot.links[0].m = 5\n",
    "robot.links[1].\n",
    "robot"
   ],
   "id": "9f38559b4e1e2b4d",
   "outputs": [
    {
     "data": {
      "text/plain": [
       "ERobot: 6-Link Robot Arm, 6 joints (RRRRRR), dynamics\n",
       "┌──────┬────────┬───────┬────────┬─────────────────────┐\n",
       "│ link │  link  │ joint │ parent │ ETS: parent to link │\n",
       "├──────┼────────┼───────┼────────┼─────────────────────┤\n",
       "│    0 │ test   │     0 │ BASE   │ Rz(q0)              │\n",
       "│    1 │ link1  │     1 │ test   │ tz(0.2) ⊕ Rx(q1)    │\n",
       "│    2 │ link2  │     2 │ link1  │ tz(0.2) ⊕ Rz(q2)    │\n",
       "│    3 │ link3  │     3 │ link2  │ tz(0.2) ⊕ Rx(q3)    │\n",
       "│    4 │ link4  │     4 │ link3  │ tz(0.2) ⊕ Rz(q4)    │\n",
       "│    5 │ link5  │     5 │ link4  │ tz(0.2) ⊕ Rx(q5)    │\n",
       "│    6 │ \u001B[38;5;4m@link6\u001B[38;5;0m │       │ link5  │ tz(0.2)             │\n",
       "└──────┴────────┴───────┴────────┴─────────────────────┘"
      ]
     },
     "execution_count": 13,
     "metadata": {},
     "output_type": "execute_result"
    }
   ],
   "execution_count": 13
  },
  {
   "metadata": {
    "ExecuteTime": {
     "end_time": "2024-10-06T19:19:47.083912Z",
     "start_time": "2024-10-06T19:19:41.245033Z"
    }
   },
   "cell_type": "code",
   "source": [
    "from roboticstoolbox import DHRobot, RevoluteDH\n",
    "\n",
    "# Link 1\n",
    "L1 = RevoluteDH(\n",
    "    d=0.4,       # Link offset\n",
    "    a=0.25,      # Link length\n",
    "    alpha=-np.pi/2,  # Link twist\n",
    "    m=5.0,       # Mass of the link\n",
    "    r=[0, 0, 0], # Center of mass position in link frame\n",
    "    I=[0.1, 0.1, 0.1]  # Inertia tensor components\n",
    ")\n",
    "\n",
    "# Repeat for all 6 links\n",
    "L2 = RevoluteDH(d=0, a=0.3, alpha=0, m=3.0, r=[0, 0, 0], I=[0.05, 0.05, 0.05])\n",
    "L3 = RevoluteDH(d=0, a=0.2, alpha=-np.pi/2, m=2.0, r=[0, 0, 0], I=[0.02, 0.02, 0.02])\n",
    "L4 = RevoluteDH(d=0.4, a=0, alpha=np.pi/2, m=1.0, r=[0, 0, 0], I=[0.01, 0.01, 0.01])\n",
    "L5 = RevoluteDH(d=0, a=0, alpha=-np.pi/2, m=0.5, r=[0, 0, 0], I=[0.005, 0.005, 0.005])\n",
    "L6 = RevoluteDH(d=0.1, a=0, alpha=0, m=0.2, r=[0, 0, 0], I=[0.002, 0.002, 0.002])\n",
    "\n",
    "# Create the robot model\n",
    "robot = DHRobot([L1, L2, L3, L4, L5, L6], name='Custom6DOFRobot')\n",
    "\n",
    "# Optionally, set gravity (default is [0, 0, 9.81])\n",
    "robot.gravity = [0, 0, -9.81]  # Gravity in negative Z-direction"
   ],
   "id": "1935a43df5a7b077",
   "outputs": [
    {
     "ename": "NameError",
     "evalue": "name 'np' is not defined",
     "output_type": "error",
     "traceback": [
      "\u001B[1;31m---------------------------------------------------------------------------\u001B[0m",
      "\u001B[1;31mNameError\u001B[0m                                 Traceback (most recent call last)",
      "Cell \u001B[1;32mIn[1], line 7\u001B[0m\n\u001B[0;32m      1\u001B[0m \u001B[38;5;28;01mfrom\u001B[39;00m \u001B[38;5;21;01mroboticstoolbox\u001B[39;00m \u001B[38;5;28;01mimport\u001B[39;00m DHRobot, RevoluteDH\n\u001B[0;32m      3\u001B[0m \u001B[38;5;66;03m# Link 1\u001B[39;00m\n\u001B[0;32m      4\u001B[0m L1 \u001B[38;5;241m=\u001B[39m RevoluteDH(\n\u001B[0;32m      5\u001B[0m     d\u001B[38;5;241m=\u001B[39m\u001B[38;5;241m0.4\u001B[39m,       \u001B[38;5;66;03m# Link offset\u001B[39;00m\n\u001B[0;32m      6\u001B[0m     a\u001B[38;5;241m=\u001B[39m\u001B[38;5;241m0.25\u001B[39m,      \u001B[38;5;66;03m# Link length\u001B[39;00m\n\u001B[1;32m----> 7\u001B[0m     alpha\u001B[38;5;241m=\u001B[39m\u001B[38;5;241m-\u001B[39m\u001B[43mnp\u001B[49m\u001B[38;5;241m.\u001B[39mpi\u001B[38;5;241m/\u001B[39m\u001B[38;5;241m2\u001B[39m,  \u001B[38;5;66;03m# Link twist\u001B[39;00m\n\u001B[0;32m      8\u001B[0m     m\u001B[38;5;241m=\u001B[39m\u001B[38;5;241m5.0\u001B[39m,       \u001B[38;5;66;03m# Mass of the link\u001B[39;00m\n\u001B[0;32m      9\u001B[0m     r\u001B[38;5;241m=\u001B[39m[\u001B[38;5;241m0\u001B[39m, \u001B[38;5;241m0\u001B[39m, \u001B[38;5;241m0\u001B[39m], \u001B[38;5;66;03m# Center of mass position in link frame\u001B[39;00m\n\u001B[0;32m     10\u001B[0m     I\u001B[38;5;241m=\u001B[39m[\u001B[38;5;241m0.1\u001B[39m, \u001B[38;5;241m0.1\u001B[39m, \u001B[38;5;241m0.1\u001B[39m]  \u001B[38;5;66;03m# Inertia tensor components\u001B[39;00m\n\u001B[0;32m     11\u001B[0m )\n\u001B[0;32m     13\u001B[0m \u001B[38;5;66;03m# Repeat for all 6 links\u001B[39;00m\n\u001B[0;32m     14\u001B[0m L2 \u001B[38;5;241m=\u001B[39m RevoluteDH(d\u001B[38;5;241m=\u001B[39m\u001B[38;5;241m0\u001B[39m, a\u001B[38;5;241m=\u001B[39m\u001B[38;5;241m0.3\u001B[39m, alpha\u001B[38;5;241m=\u001B[39m\u001B[38;5;241m0\u001B[39m, m\u001B[38;5;241m=\u001B[39m\u001B[38;5;241m3.0\u001B[39m, r\u001B[38;5;241m=\u001B[39m[\u001B[38;5;241m0\u001B[39m, \u001B[38;5;241m0\u001B[39m, \u001B[38;5;241m0\u001B[39m], I\u001B[38;5;241m=\u001B[39m[\u001B[38;5;241m0.05\u001B[39m, \u001B[38;5;241m0.05\u001B[39m, \u001B[38;5;241m0.05\u001B[39m])\n",
      "\u001B[1;31mNameError\u001B[0m: name 'np' is not defined"
     ]
    }
   ],
   "execution_count": 1
  },
  {
   "metadata": {},
   "cell_type": "code",
   "outputs": [],
   "execution_count": null,
   "source": "",
   "id": "8d2b7e67f1fee364"
  }
 ],
 "metadata": {
  "kernelspec": {
   "display_name": "Python 3 (ipykernel)",
   "language": "python",
   "name": "python3"
  },
  "language_info": {
   "codemirror_mode": {
    "name": "ipython",
    "version": 3
   },
   "file_extension": ".py",
   "mimetype": "text/x-python",
   "name": "python",
   "nbconvert_exporter": "python",
   "pygments_lexer": "ipython3",
   "version": "3.12.2"
  }
 },
 "nbformat": 4,
 "nbformat_minor": 5
}
