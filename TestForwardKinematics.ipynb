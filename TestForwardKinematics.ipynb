{
 "cells": [
  {
   "cell_type": "code",
   "id": "1b06b88900b61536",
   "metadata": {
    "ExecuteTime": {
     "end_time": "2024-09-23T09:44:59.706596Z",
     "start_time": "2024-09-23T09:44:59.647306Z"
    }
   },
   "source": [
    "import numpy as np\n",
    "from roboticstoolbox.bin.rtbtool import panda\n",
    "from scipy.spatial.transform import Rotation as R\n",
    "from sympy import *\n",
    "from sympy.physics.mechanics import ReferenceFrame\n",
    "\n",
    "thetas = symbols('theta1:7')\n",
    "lengths = symbols('l1:7')\n",
    "\n",
    "# Function to create a 4x4 transformation matrix from a rotation matrix and translation vector\n",
    "def transformation_matrix(rotation, translation):\n",
    "    T = eye(4)\n",
    "    T[0:3, 0:3] = rotation\n",
    "    T[0:3, 3] = translation\n",
    "    return T\n",
    "\n",
    "links = [Matrix([0,0,lengths[i]]) for i in range(6)]\n",
    "\n",
    "\n",
    "base = ReferenceFrame('base')\n",
    "joints = [ReferenceFrame(\"joint\"+str(i+1)) for i in range(6)]\n",
    "joints[0].orient_axis(base, base.z, thetas[0])\n",
    "joints[1].orient_axis(joints[0], joints[0].x, thetas[1])\n",
    "joints[2].orient_axis(joints[1], joints[1].z, thetas[2])\n",
    "joints[3].orient_axis(joints[2], joints[2].x, thetas[3])\n",
    "joints[4].orient_axis(joints[3], joints[3].z, thetas[4])\n",
    "joints[5].orient_axis(joints[4], joints[4].x, thetas[5])\n",
    "\n",
    "# Create the transformation matrices\n",
    "T1 = transformation_matrix(joints[0].dcm(base), links[0])\n",
    "T2 = transformation_matrix(joints[1].dcm(joints[0]), links[1])\n",
    "T3 = transformation_matrix(joints[2].dcm(joints[1]), links[2])\n",
    "T4 = transformation_matrix(joints[3].dcm(joints[2]), links[3])\n",
    "T5 = transformation_matrix(joints[4].dcm(joints[3]), links[4])\n",
    "T6 = transformation_matrix(joints[5].dcm(joints[4]), links[5])\n",
    "\n",
    "(T1 @ T2 @ T3 @ T4 @ T5 @ T6).subs({thetas[0]: 0, thetas[1]: np.pi/2, thetas[2]: 0, thetas[3]: 0, thetas[4]: 0, thetas[5]: 0, lengths[0]: 0, lengths[1]: 1, lengths[2]: 1, lengths[3]: 1, lengths[4]: 1, lengths[5]: 1})"
   ],
   "outputs": [
    {
     "data": {
      "text/plain": [
       "Matrix([\n",
       "[1,                    0,                    0,   0],\n",
       "[0, 6.12323399573677e-17,                  1.0, 4.0],\n",
       "[0,                 -1.0, 6.12323399573677e-17, 1.0],\n",
       "[0,                    0,                    0,   1]])"
      ],
      "text/latex": "$\\displaystyle \\left[\\begin{matrix}1 & 0 & 0 & 0\\\\0 & 6.12323399573677 \\cdot 10^{-17} & 1.0 & 4.0\\\\0 & -1.0 & 6.12323399573677 \\cdot 10^{-17} & 1.0\\\\0 & 0 & 0 & 1\\end{matrix}\\right]$"
     },
     "execution_count": 34,
     "metadata": {},
     "output_type": "execute_result"
    }
   ],
   "execution_count": 34
  },
  {
   "cell_type": "code",
   "execution_count": 16,
   "id": "618efbe6a7d5fc2c",
   "metadata": {
    "ExecuteTime": {
     "end_time": "2024-09-22T15:15:20.953947Z",
     "start_time": "2024-09-22T15:13:20.787507Z"
    }
   },
   "outputs": [],
   "source": [
    "import roboticstoolbox as rtb\n",
    "import matplotlib.pyplot as plt\n",
    "from itertools import product\n",
    "\n",
    "\n",
    "puma = rtb.models.DH.Puma560()\n",
    "qlim = puma.qlim\n",
    "angles = np.array([np.linspace(qlim[0, i], qlim[1, i], 10) for i in range(0, puma.q.size)])\n",
    "\n",
    "workspace_points = []\n",
    "\n",
    "for angle_set in product(*angles):\n",
    "    T = puma.fkine(angle_set)  # Forward kinematics\n",
    "    position = T.t           # Extract translation part\n",
    "    workspace_points.append(position)\n",
    "\n",
    "workspace_points = np.array(workspace_points)"
   ]
  },
  {
   "cell_type": "code",
   "id": "56b108eec6f4f46a",
   "metadata": {
    "jupyter": {
     "is_executing": true
    }
   },
   "source": [
    "fig = plt.figure()\n",
    "ax = fig.add_subplot(111, projection='3d')\n",
    "ax.scatter(workspace_points[:, 0], workspace_points[:, 1], workspace_points[:, 2], s=1)\n",
    "ax.set_title('End Effector Workspace')\n",
    "ax.set_xlabel('X (m)')\n",
    "ax.set_ylabel('Y (m)')\n",
    "ax.set_zlabel('Z (m)')\n",
    "plt.show()"
   ],
   "outputs": [],
   "execution_count": null
  },
  {
   "cell_type": "code",
   "id": "6e56fe15240f6c1e",
   "metadata": {
    "ExecuteTime": {
     "end_time": "2024-09-23T09:34:21.489806Z",
     "start_time": "2024-09-23T09:34:21.473616Z"
    }
   },
   "source": [
    "# Function to create a 4x4 transformation matrix from a rotation matrix and translation vector\n",
    "def transformation_matrix2(rotation, translation):\n",
    "    T = np.eye(4)\n",
    "    T[0:3, 0:3] = rotation\n",
    "    T[0:3, 3] = translation\n",
    "    return T\n",
    "\n",
    "# Example rotation matrices (identity matrices for simplicity)\n",
    "R1 = R.from_euler(\"z\", 0, degrees=True).as_matrix()  # Rotation about z-axis for joint 1\n",
    "R2 = R.from_euler(\"x\", 45, degrees=True).as_matrix()  # Rotation about x-axis for joint 2\n",
    "R3 = np.eye(3)  # Identity rotation matrix for joint 3\n",
    "# Example translation vectors (position of joint 1 and joint 2 relative to the previous joint)\n",
    "P1 = np.array([0, 0, 0])  # Translation along z-axis for joint 1\n",
    "P2 = np.array([0, 0, 1])  # Translation along z-axis for joint 2\n",
    "P3 = np.array([0, 0, np.sqrt(2)])  # Translation along z-axis for joint 3\n",
    "\n",
    "# Create the transformation matrices\n",
    "T1 = transformation_matrix2(R1, P1)\n",
    "T2 = transformation_matrix2(R2, P2)\n",
    "T3 = transformation_matrix2(R3, P3)\n",
    "\n",
    "# Compute the end effector transformation matrix\n",
    "T_end_effector = T1 @ T2 @ T3\n",
    "\n",
    "# Extract the position of the end effector (last column of the 4x4 matrix)\n",
    "end_effector_position = T_end_effector[0:3, 3]\n",
    "\n",
    "# Output the end effector position\n",
    "print(\"End Effector Position:\", end_effector_position)"
   ],
   "outputs": [
    {
     "name": "stdout",
     "output_type": "stream",
     "text": [
      "End Effector Position: [ 0. -1.  2.]\n"
     ]
    }
   ],
   "execution_count": 19
  }
 ],
 "metadata": {
  "kernelspec": {
   "display_name": "Python 3 (ipykernel)",
   "language": "python",
   "name": "python3"
  },
  "language_info": {
   "codemirror_mode": {
    "name": "ipython",
    "version": 3
   },
   "file_extension": ".py",
   "mimetype": "text/x-python",
   "name": "python",
   "nbconvert_exporter": "python",
   "pygments_lexer": "ipython3",
   "version": "3.12.2"
  }
 },
 "nbformat": 4,
 "nbformat_minor": 5
}
